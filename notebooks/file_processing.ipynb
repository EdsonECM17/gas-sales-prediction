{
 "cells": [
  {
   "cell_type": "markdown",
   "metadata": {},
   "source": [
    "# DATA EXPLORATION GAS SALES"
   ]
  },
  {
   "cell_type": "code",
   "execution_count": null,
   "metadata": {},
   "outputs": [],
   "source": [
    "import os\n",
    "import pandas as pd\n",
    "import numpy as np\n",
    "from typing import List"
   ]
  },
  {
   "cell_type": "code",
   "execution_count": null,
   "metadata": {},
   "outputs": [],
   "source": [
    "# Define folder path\n",
    "DATA_FOLDER_PATH = f\"{os.path.dirname(os.getcwd())}/data/raw/\"\n",
    "GAS_DATA_FOLDER_PATH = f\"{DATA_FOLDER_PATH}/gas/\""
   ]
  },
  {
   "cell_type": "code",
   "execution_count": null,
   "metadata": {},
   "outputs": [],
   "source": [
    "# Sample file path\n",
    "DATA_FILE_PATH_BY_YEAR = os.path.join(GAS_DATA_FOLDER_PATH, '2019')\n",
    "FILES = os.listdir(DATA_FILE_PATH_BY_YEAR)\n",
    "DEMO_DATA_FILE_PATH = os.path.join(DATA_FILE_PATH_BY_YEAR, FILES[0])\n",
    "print(DEMO_DATA_FILE_PATH)\n"
   ]
  },
  {
   "cell_type": "code",
   "execution_count": null,
   "metadata": {},
   "outputs": [],
   "source": [
    "# Read df\n",
    "sample_df = pd.read_csv(DEMO_DATA_FILE_PATH, low_memory=False, thousands=',')\n",
    "sample_df.head(10)"
   ]
  },
  {
   "cell_type": "code",
   "execution_count": null,
   "metadata": {},
   "outputs": [],
   "source": [
    "# Show info\n",
    "print(sample_df.shape)\n",
    "sample_df.info()"
   ]
  },
  {
   "cell_type": "code",
   "execution_count": null,
   "metadata": {},
   "outputs": [],
   "source": [
    "# Remove totals\n",
    "def remove_totals(data_df: pd.DataFrame, column: str) -> pd.DataFrame:\n",
    "    filtered_df = data_df[data_df[column].notna()]\n",
    "    return filtered_df\n",
    "\n",
    "sample_df = remove_totals(sample_df,\"Filial\")\n",
    "sample_df.shape"
   ]
  },
  {
   "cell_type": "code",
   "execution_count": null,
   "metadata": {},
   "outputs": [],
   "source": [
    "# Convert type\n",
    "sample_df.convert_dtypes()"
   ]
  },
  {
   "cell_type": "code",
   "execution_count": null,
   "metadata": {},
   "outputs": [],
   "source": [
    "# Get date\n",
    "def keydate_to_date(data_df: pd.DataFrame, column: str = \"%Key_FechaID\") -> pd.Series:\n",
    "    date_series = pd.to_datetime(data_df[column].astype(str), format = \"%Y%m%d\")\n",
    "    return date_series\n",
    "\n",
    "sample_df[\"Date\"] = keydate_to_date(sample_df, \"%Key_FechaID\")"
   ]
  },
  {
   "cell_type": "code",
   "execution_count": null,
   "metadata": {},
   "outputs": [],
   "source": [
    "# Remove columns\n",
    "COLUMNS_TO_REMOVE = [\"Empresa\", \"%Key_Ticket\",\"%Key_Folio\", \"%Key_Cliente\", \"%Key_FechaID\"]\n",
    "sample_df.drop(columns = COLUMNS_TO_REMOVE, inplace=True)\n",
    "sample_df.sample(5)"
   ]
  },
  {
   "cell_type": "code",
   "execution_count": null,
   "metadata": {},
   "outputs": [],
   "source": [
    "file_filters = os.path.join(DATA_FOLDER_PATH, 'filiales_estados.csv')\n",
    "filters_df = pd.read_csv(file_filters, low_memory=False, thousands=',')\n",
    "filters_df.dropna(axis=1, how=\"all\", inplace=True)\n",
    "sample_df = pd.merge(filters_df, sample_df, on=\"Filial\")\n",
    "sample_df.sample(5)"
   ]
  },
  {
   "cell_type": "code",
   "execution_count": null,
   "metadata": {},
   "outputs": [],
   "source": [
    "# Filter by state (NUEVO LEON, TAMAULIPAS)\n",
    "def filter_by_state(data_df: pd.DataFrame, states: List[str] = [\"NUEVO LEON\", \"TAMAULIPAS\"]):\n",
    "    filtered_df = data_df[data_df[\"Estado\"].isin(states)]\n",
    "    filtered_df.reset_index(drop=True)\n",
    "    return filtered_df\n",
    "\n",
    "sample_df = filter_by_state(sample_df)\n",
    "print(sample_df.shape)\n",
    "sample_df.sample(5)\n"
   ]
  },
  {
   "cell_type": "code",
   "execution_count": null,
   "metadata": {},
   "outputs": [],
   "source": [
    "def get_sale_type(sale_point: str) -> str:\n",
    "    if \"ATQ\" in sale_point:\n",
    "        sale_type = \"ATQ\"\n",
    "    else:\n",
    "        sale_type = \"EC\"\n",
    "    return sale_type\n",
    "\n",
    "sample_df[\"Tipo\"] = sample_df[\"Punto de venta\"].apply(lambda x: get_sale_type(x))\n",
    "sample_df.head(5)"
   ]
  },
  {
   "cell_type": "code",
   "execution_count": null,
   "metadata": {},
   "outputs": [],
   "source": [
    "def process_year_data(input_data_path: str, year: str, output_path: str = \"output/\") -> pd.DataFrame:\n",
    "    # Init year_df\n",
    "    df_year = pd.DataFrame([])\n",
    "    # Define paths\n",
    "    year_data_path = f\"{input_data_path}/{year}\"\n",
    "    output_path = f\"{output_path}/{year}\"\n",
    "    if not os.path.exists(output_path):\n",
    "        os.makedirs(output_path)\n",
    "    # Read filial-state data\n",
    "    file_filters = os.path.join(DATA_FOLDER_PATH, 'filiales_estados.csv')\n",
    "    filters_df = pd.read_csv(file_filters, low_memory=False, thousands=',')\n",
    "    filters_df.dropna(axis=1, how=\"all\", inplace=True)\n",
    "    # Get gas year data\n",
    "    year_files = os.listdir(year_data_path)\n",
    "    # Read each file in year\n",
    "\n",
    "    for file in year_files:\n",
    "        # Read month file\n",
    "        file_path = os.path.join(year_data_path, file)\n",
    "        m_df = pd.read_csv(file_path, low_memory=False, thousands=',')\n",
    "        # Remove totals\n",
    "        m_df = remove_totals(m_df, \"Filial\")\n",
    "        # Fix dtypes\n",
    "        m_df.convert_dtypes()\n",
    "        # Set state\n",
    "        m_df = pd.merge(filters_df, m_df, on=\"Filial\")\n",
    "        # Filter data by state\n",
    "        m_df = filter_by_state(m_df)\n",
    "        # Convert date\n",
    "        m_df[\"Date\"] = keydate_to_date(m_df, \"%Key_FechaID\")\n",
    "        # Get sale type\n",
    "        m_df[\"Tipo\"] = m_df[\"Punto de venta\"].apply(lambda x: get_sale_type(x))\n",
    "        # Remove unnecesary columns\n",
    "        m_df.drop(columns = COLUMNS_TO_REMOVE, inplace=True)\n",
    "        # Export data\n",
    "        # m_df.to_csv(f'{output_path}/{file}')\n",
    "        # Append data\n",
    "        # df_year = df_year.append(m_df)\n",
    "        df_year = pd.concat([df_year, m_df], ignore_index=True)\n",
    "    # df_year.to_csv(f'{output_path}/{year}.csv')\n",
    "    df_year.sort_values(['Date'], ascending=[True], inplace=True)\n",
    "    return df_year\n",
    " \n",
    "\n",
    "year_sample = process_year_data(GAS_DATA_FOLDER_PATH, \"2022\")\n",
    "print(year_sample.shape)\n",
    "year_sample.head(5)"
   ]
  },
  {
   "cell_type": "code",
   "execution_count": null,
   "metadata": {},
   "outputs": [],
   "source": [
    "YEARS: List[int] = [2017, 2018, 2019, 2020, 2021, 2022]\n",
    "def get_all_years(input_data_path: str, years: List[str], output_path: str = \"output/\") -> pd.DataFrame:\n",
    "    # Init data_df\n",
    "    full_data_df = pd.DataFrame([])\n",
    "    for year in years:\n",
    "        year_df = process_year_data(input_data_path, year, output_path)\n",
    "        full_data_df = pd.concat([full_data_df, year_df], ignore_index=True)\n",
    "    # df_year.to_csv(f'{output_path}/{year}.csv')\n",
    "    full_data_df.sort_values(['Date'], ascending=[True], inplace=True)\n",
    "    return full_data_df\n",
    "\n",
    "\n",
    "full_gas_data = get_all_years(GAS_DATA_FOLDER_PATH, YEARS)\n",
    "print(full_gas_data.shape)\n",
    "full_gas_data.head(5)"
   ]
  },
  {
   "cell_type": "code",
   "execution_count": null,
   "metadata": {},
   "outputs": [],
   "source": [
    "atq_df = full_gas_data[full_gas_data[\"Punto de venta\"].str.startswith(\"ATQ\")]\n",
    "print(atq_df[\"Tipo\"].unique())\n",
    "ec_df = full_gas_data[full_gas_data[\"Punto de venta\"].str.startswith(\"EC\")]\n",
    "print(ec_df[\"Tipo\"].unique())\n",
    "other_points_df = full_gas_data[~full_gas_data[\"Punto de venta\"].str.startswith((\"EC\",\"ATQ\"))]\n",
    "print(other_points_df[\"Tipo\"].unique())\n"
   ]
  },
  {
   "cell_type": "code",
   "execution_count": null,
   "metadata": {},
   "outputs": [],
   "source": [
    "temp_data = pd.read_csv(f\"{DATA_FOLDER_PATH}/temperature.csv\")\n",
    "temp_data.dropna(axis=1, how=\"all\", inplace=True)\n",
    "temp_data"
   ]
  },
  {
   "cell_type": "code",
   "execution_count": null,
   "metadata": {},
   "outputs": [],
   "source": [
    "# Add month and year columns\n",
    "full_gas_data[\"Mes\"] = full_gas_data[\"Date\"].dt.month\n",
    "full_gas_data[\"Año\"] = full_gas_data[\"Date\"].dt.year\n"
   ]
  },
  {
   "cell_type": "code",
   "execution_count": null,
   "metadata": {},
   "outputs": [],
   "source": [
    "gas_temp_df = pd.merge(full_gas_data, temp_data, how=\"left\")\n",
    "gas_temp_df.shape"
   ]
  },
  {
   "cell_type": "code",
   "execution_count": null,
   "metadata": {},
   "outputs": [],
   "source": [
    "occupation_df = pd.read_csv(f\"{DATA_FOLDER_PATH}/ocupacion.csv\")\n",
    "occupation_df[[\"Año\", \"Mes\"]] = occupation_df[\"Periodo\"].str.split(\"/\", expand=True)\n",
    "occupation_df[\"Mes\"] = occupation_df[\"Mes\"].astype(int)\n",
    "occupation_df[\"Año\"] = occupation_df[\"Año\"].astype(int)\n",
    "occupation_df.drop(columns = \"Periodo\", inplace=True)\n",
    "occupation_df"
   ]
  },
  {
   "cell_type": "code",
   "execution_count": null,
   "metadata": {},
   "outputs": [],
   "source": [
    "full_df = pd.merge(gas_temp_df, occupation_df, how=\"left\")\n",
    "full_df.fillna(method=\"ffill\", inplace=True)\n",
    "full_df.drop(columns=[\"Mes\", \"Año\"], inplace=True)\n",
    "full_df.tail(5)\n"
   ]
  },
  {
   "cell_type": "code",
   "execution_count": null,
   "metadata": {},
   "outputs": [],
   "source": [
    "full_df.columns"
   ]
  },
  {
   "cell_type": "markdown",
   "metadata": {},
   "source": [
    "## Data Reduction"
   ]
  },
  {
   "cell_type": "code",
   "execution_count": null,
   "metadata": {},
   "outputs": [],
   "source": [
    "full_df.ap.isna().any()"
   ]
  },
  {
   "cell_type": "code",
   "execution_count": null,
   "metadata": {},
   "outputs": [],
   "source": [
    "full_df.shape"
   ]
  },
  {
   "cell_type": "code",
   "execution_count": null,
   "metadata": {},
   "outputs": [],
   "source": [
    "reduced_table = pd.pivot_table(full_df, index=['Filial', 'Estado', 'Region', 'Punto de venta', 'Date',\n",
    "     'Tipo'], values=['Litros', '$', 'Temp. Promedio', 'Temp. Maxima', 'servicio de alojamiento'],\n",
    "     aggfunc={'Litros': sum,\n",
    "          '$': sum,\n",
    "          'Temp. Promedio': np.mean,\n",
    "          'Temp. Maxima': np.mean,\n",
    "          'servicio de alojamiento': np.mean})\n",
    "reduced_table.reset_index(inplace=True)\n",
    "reduced_table.sample(5)\n",
    "                   "
   ]
  },
  {
   "cell_type": "code",
   "execution_count": null,
   "metadata": {},
   "outputs": [],
   "source": [
    "reduced_table.shape"
   ]
  },
  {
   "cell_type": "code",
   "execution_count": null,
   "metadata": {},
   "outputs": [],
   "source": [
    "reduced_table.to_csv(f\"output/full_gas_data.csv\", index=False)"
   ]
  }
 ],
 "metadata": {
  "interpreter": {
   "hash": "ad205ebe4f29ef2ee215366ac1315765af094f7316a6f6a4c6b914529bb64357"
  },
  "kernelspec": {
   "display_name": "Python 3.8.12 ('jenv': venv)",
   "language": "python",
   "name": "python3"
  },
  "language_info": {
   "codemirror_mode": {
    "name": "ipython",
    "version": 3
   },
   "file_extension": ".py",
   "mimetype": "text/x-python",
   "name": "python",
   "nbconvert_exporter": "python",
   "pygments_lexer": "ipython3",
   "version": "3.8.12"
  },
  "orig_nbformat": 4
 },
 "nbformat": 4,
 "nbformat_minor": 2
}
